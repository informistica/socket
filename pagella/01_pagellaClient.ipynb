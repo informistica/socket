{
 "cells": [
  {
   "cell_type": "code",
   "execution_count": null,
   "metadata": {},
   "outputs": [
    {
     "name": "stdout",
     "output_type": "stream",
     "text": [
      "Connesso a ('127.0.0.1', 22225)\n",
      "Comandi disponibili;\n",
      "#list : per vedere i voti inseriti\n",
      "#set /nomestudente : per inserire uno studente\n",
      "#put /nomestudente/materia/voto/ore : per aggiungere i voti della materia allo studente\n",
      "#get /nomestudente : per richiedere i voti di uno studente\n",
      "#close : per chiudere la connessione\n",
      "Digita il comando: #set /Mauro Spinarelli\n",
      "Inserimento studente in corso ... Studente inserito \n"
     ]
    }
   ],
   "source": [
    "import socket\n",
    "import os\n",
    "import json\n",
    "import pprint\n",
    "\n",
    "# (127.0.0.1 indirizzo \"localhost\").\n",
    "SERVER_ADDRESS = '127.0.0.1'\n",
    "SERVER_PORT = 22225\n",
    "\n",
    "# Crea la  socket\n",
    "client = socket.socket()\n",
    "\n",
    "# Connette la socket al server\n",
    "client.connect((SERVER_ADDRESS, SERVER_PORT))\n",
    "\n",
    "print(\"Connesso a \" + str((SERVER_ADDRESS, SERVER_PORT)))\n",
    "print(\"Comandi disponibili;\")\n",
    "print( \"#list : per vedere i voti inseriti\")\n",
    "print( \"#set /nomestudente : per inserire uno studente\")\n",
    "print( \"#put /nomestudente/materia/voto/ore : per aggiungere i voti della materia allo studente\")\n",
    "print( \"#get /nomestudente : per richiedere i voti di uno studente\")\n",
    "print( \"#close : per chiudere la connessione\")\n",
    "\n",
    "\n",
    "fine=1\n",
    "while fine!=0:\n",
    "    try:\n",
    "        comando = input(\"Digita il comando: \")\n",
    "    except EOFError:\n",
    "        print(\"\\nOkay. Exit\")\n",
    "        break\n",
    "\n",
    "    if not comando:\n",
    "        print(\"Non puoi inviare una stringa vuota!\")\n",
    "        continue\n",
    "    # invia al server\n",
    "    client.send(comando.encode())\n",
    "    dati = client.recv(4096)\n",
    "    if not dati:\n",
    "        print(\"Server non risponde. Exit\")\n",
    "        break\n",
    "    dati = dati.decode()\n",
    "    if comando==\"#list\":\n",
    "        stud_dict = json.loads(dati)\n",
    "        print (\"Dizionario studenti\")\n",
    "        pp=pprint.PrettyPrinter(indent=4)\n",
    "        pp.pprint(stud_dict)\n",
    "    elif comando.find('#get')!=-1:\n",
    "        if dati!=\"Studente non trovato\":\n",
    "            dati = client.recv(4096)\n",
    "            dati = dati.decode()\n",
    "            stud_dict = json.loads(dati)\n",
    "            pp=pprint.PrettyPrinter(indent=4)\n",
    "            pp.pprint(stud_dict)   \n",
    "        else:\n",
    "            print (\"Studente non trovato\")\n",
    "    elif comando.find('#put')!=-1:\n",
    "        print (\"Inserimento materia in corso ... \" + dati)\n",
    "    elif comando.find('#set')!=-1:\n",
    "        print (\"Inserimento studente in corso ... \" + dati)\n",
    "    elif comando==\"#close\":\n",
    "        if dati==\"closed\":\n",
    "            print (\"Connessione chiusa\")\n",
    "            fine = 0\n",
    "        else:\n",
    "            print (\"Problemi nella chiusura della connessione\")\n",
    "\n",
    "client.close()"
   ]
  },
  {
   "cell_type": "code",
   "execution_count": null,
   "metadata": {},
   "outputs": [],
   "source": []
  },
  {
   "cell_type": "code",
   "execution_count": null,
   "metadata": {},
   "outputs": [],
   "source": []
  },
  {
   "cell_type": "code",
   "execution_count": null,
   "metadata": {},
   "outputs": [],
   "source": []
  }
 ],
 "metadata": {
  "kernelspec": {
   "display_name": "Python 3",
   "language": "python",
   "name": "python3"
  },
  "language_info": {
   "codemirror_mode": {
    "name": "ipython",
    "version": 3
   },
   "file_extension": ".py",
   "mimetype": "text/x-python",
   "name": "python",
   "nbconvert_exporter": "python",
   "pygments_lexer": "ipython3",
   "version": "3.5.2"
  }
 },
 "nbformat": 4,
 "nbformat_minor": 2
}
