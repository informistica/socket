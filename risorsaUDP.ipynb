{
 "cells": [
  {
   "cell_type": "markdown",
   "metadata": {},
   "source": [
    "<h1>Introduzione alle socket in Python</h1>\n",
    "Le socket sono uno strumento importante per la comunicazione tra processi su una rete, sia su Internet che su una rete locale. In Python le socket possono essere utilizzate sia per la comunicazione tramite UDP, che è un protocollo di trasmissione di dati senza connessione, che TCP con connessione. Per creare una socket in Python utilizziamo il metodo socket() del modulo socket. Il metodo accetta 2 parametri: la famiglia di indirizzi e il tipo di socket.\n",
    "\n",
    "Socket UDP\n",
    "Le socket UDP sono utilizzate per inviare e ricevere pacchetti di dati tra 2 dispositivi senza l'instaurazione di una connessione prima della trasmissione dei dati. Questo rende le socket UDP molto utili\n"
   ]
  },
  {
   "cell_type": "markdown",
   "metadata": {},
   "source": [
    "**socket()**: questa funzione viene utilizzata per creare una nuova socket UDP. Restituisce un oggetto socket che può essere utilizzato per inviare e ricevere dati."
   ]
  },
  {
   "cell_type": "code",
   "execution_count": null,
   "metadata": {},
   "outputs": [],
   "source": [
    "import socket\n",
    "#Creazione socket UDP\n",
    "sock = socket.socket(socket.AF_INET, socket.SOCK_DGRAM)"
   ]
  },
  {
   "cell_type": "markdown",
   "metadata": {},
   "source": [
    "**bind()**: questa funzione viene utilizzata per associare una socket a un indirizzo e una porta specifici del server. Una volta associata, la socket sarà in grado di ricevere i dati inviati a quell'indirizzo e porta specifici. Il metodo accetta un parametro, una tupla contenente l'indirizzo IP e il numero di porta."
   ]
  },
  {
   "cell_type": "code",
   "execution_count": null,
   "metadata": {},
   "outputs": [],
   "source": [
    "server_address = ('127.0.0.1', 10000)\n",
    "sock.bind(server_address)"
   ]
  },
  {
   "cell_type": "markdown",
   "metadata": {},
   "source": [
    "**sendto()**: questa funzione viene utilizzata per inviare un messaggio a un indirizzo e una porta specifici. In una socket UDP, il messaggio viene suddiviso in pacchetti e inviato tramite la rete. Non viene effettuato alcun controllo sulla ricezione del messaggio."
   ]
  },
  {
   "cell_type": "code",
   "execution_count": null,
   "metadata": {},
   "outputs": [],
   "source": [
    "message = b'Hello, client!' #\"b\" fa la conversione a binario\n",
    "client_address = ('localhost', 10001)\n",
    "sock.sendto(message, client_address)"
   ]
  },
  {
   "cell_type": "markdown",
   "metadata": {},
   "source": [
    "**recvfrom()**: questa funzione viene utilizzata per ricevere un messaggio inviato da una socket specifica. Essa restituisce il messaggio ricevuto e l'indirizzo e la porta del mittente del messaggio."
   ]
  },
  {
   "cell_type": "code",
   "execution_count": null,
   "metadata": {},
   "outputs": [],
   "source": [
    "data, address = sock.recvfrom(4096)"
   ]
  },
  {
   "cell_type": "markdown",
   "metadata": {},
   "source": [
    "Esempio completo di un server e un client che comunicano tramite socket UDP in Python:"
   ]
  },
  {
   "cell_type": "code",
   "execution_count": 4,
   "metadata": {},
   "outputs": [],
   "source": [
    "import socket\n",
    "\n",
    "SERVER_IP = '127.0.0.1'\n",
    "SERVER_PORT = 5005\n",
    "BUFFER_SIZE = 1024\n",
    "\n",
    "#Creazione del socket\n",
    "sock = socket.socket(socket.AF_INET, socket.SOCK_DGRAM)\n",
    "sock.bind((SERVER_IP, SERVER_PORT))\n",
    "\n",
    "print(\"Server in attesa di messaggi...\")\n",
    "\n",
    "while True:\n",
    "    data, addr = sock.recvfrom(BUFFER_SIZE)\n",
    "    print(f\"Messaggio ricevuto dal client {addr}: {data.decode()}\")\n",
    "\n",
    "    reply = \"pong\"\n",
    "    sock.sendto(reply.encode(), addr)"
   ]
  },
  {
   "cell_type": "code",
   "execution_count": null,
   "metadata": {},
   "outputs": [],
   "source": [
    "import socket\n",
    "\n",
    "SERVER_IP = \"127.0.0.1\"\n",
    "SERVER_PORT = 5005\n",
    "BUFFER_SIZE = 1024\n",
    "NUM_MESSAGES = 5\n",
    "\n",
    "sock = socket.socket(socket.AF_INET, socket.SOCK_DGRAM)\n",
    "\n",
    "for i in range(NUM_MESSAGES):\n",
    "    message = \"ping\"\n",
    "    sock.sendto(message.encode(), (SERVER_IP, SERVER_PORT))\n",
    "    print(f\"Messaggio inviato al server: {message}\")\n",
    "\n",
    "    data, addr = sock.recvfrom(BUFFER_SIZE)\n",
    "    print(f\"Messaggio ricevuto dal server {addr}: {data.decode()}\")\n",
    "\n",
    "sock.close()"
   ]
  }
 ],
 "metadata": {
  "kernelspec": {
   "display_name": "Python 3",
   "language": "python",
   "name": "python3"
  },
  "language_info": {
   "codemirror_mode": {
    "name": "ipython",
    "version": 3
   },
   "file_extension": ".py",
   "mimetype": "text/x-python",
   "name": "python",
   "nbconvert_exporter": "python",
   "pygments_lexer": "ipython3",
   "version": "3.11.7"
  }
 },
 "nbformat": 4,
 "nbformat_minor": 2
}
