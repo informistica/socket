{
 "cells": [
  {
   "cell_type": "code",
   "execution_count": null,
   "metadata": {},
   "outputs": [
    {
     "name": "stdout",
     "output_type": "stream",
     "text": [
      "Connesso a ('127.0.0.1', 22224)\n",
      "Comandi disponibili;\n",
      "#list : per vedere i file disponibili\n",
      "#get /nomefile : per richiedere un file\n",
      "#put /nomefile/contenuto del file : per memorizzare il contenuto nel nomefile\n",
      "#close : per chiudere la connessione\n",
      "#get / HTTP/1.1\n",
      "\\Host: google.com\n",
      "\n",
      "\n",
      "Digita il comando: \n",
      "Non puoi inviare una stringa vuota!\n",
      "Digita il comando: #list\n",
      "File disponibili sul server=['.DS_Store', 'sentimenti_neg.txt', 'sentimenti_pos.txt']\n",
      "Digita il comando: #get /sentimenti_pos.txt\n",
      "File trovato sul server\n",
      "Contenuto del file: sentimenti_pos.txt =agiato,esuberante,orgoglioso,rinvigorito,affascinato,euforico,ottimista,riposato,rassicurato,felice,pacato,sbalordito,allegro,fiducioso, sereno, appassionato,gioioso,sicuro,assorto,grato,creativo,soddisfatto, attento,impegnato,meravigliato,sollevato, calmo,armonia,simpatia,sorpreso,coinvolto, pace,potente,spensierato, commosso,incuriosito,pronto,stimolato,\n",
      "compiaciuto,interessato,rapito,stupito, concentrato,ispirato,realizzato,tranquillo, divertito,leggero,riconoscente,vitale,emozionato,libero,rilassato,vivace, entusiasta,lucido,rincuorato,zelante, appagato, raggiante,estasiato\n",
      "Digita il comando: #put /appunti.txt/prova prova prova\n",
      "Esito della scrittura su appunti.txt terminato con OK\n",
      "Digita il comando: #close\n"
     ]
    }
   ],
   "source": [
    "import socket\n",
    "import os\n",
    "\n",
    "# (127.0.0.1 indirizzo \"localhost\").\n",
    "SERVER_ADDRESS = '127.0.0.1'\n",
    "SERVER_PORT = 22224\n",
    "\n",
    "# Crea la  socket\n",
    "client = socket.socket()\n",
    "\n",
    "# Connette la socket al server\n",
    "client.connect((SERVER_ADDRESS, SERVER_PORT))\n",
    "\n",
    "print(\"Connesso a \" + str((SERVER_ADDRESS, SERVER_PORT)))\n",
    "print(\"Comandi disponibili;\")\n",
    "print( \"#list : per vedere i file disponibili\")\n",
    "print( \"#get /nomefile : per richiedere un file\")\n",
    "print( \"#put /nomefile/contenuto del file : per memorizzare il contenuto nel nomefile\")\n",
    "print( \"#close : per chiudere la connessione\")\n",
    "\n",
    "\n",
    "fine=1\n",
    "while fine!=0:\n",
    "    try:\n",
    "        comando = input(\"Digita il comando: \")\n",
    "    except EOFError:\n",
    "        print(\"\\nOkay. Exit\")\n",
    "        break\n",
    "\n",
    "    if not comando:\n",
    "        print(\"Non puoi inviare una stringa vuota!\")\n",
    "        continue\n",
    "    # invia al server\n",
    "    client.send(comando.encode())\n",
    "    dati = client.recv(4096)\n",
    "    if not dati:\n",
    "        print(\"Server non risponde. Exit\")\n",
    "        break\n",
    "    dati = dati.decode()\n",
    "    if comando==\"#list\":\n",
    "        print (\"File disponibili sul server=\"+dati)\n",
    "    elif comando.find('#get')!=-1:\n",
    "        if dati==\"OK\":\n",
    "            dati = client.recv(4096)\n",
    "            dati = dati.decode()\n",
    "            param=comando.split('/')\n",
    "            print (\"File trovato sul server\")\n",
    "            print (\"Contenuto del file: \"+param[1]+\" = \" + dati)\n",
    "        else:\n",
    "            print (\"File non trovato sul server\")\n",
    "    elif comando.find('#put')!=-1:\n",
    "        param = comando.split('/')\n",
    "        print (\"Esito della scrittura su \" + param[1] + \" terminato con \" + dati)\n",
    "    elif comando==\"#close\":\n",
    "        if dati==\"closed\":\n",
    "            print (\"Connessione chiusa\")\n",
    "            fine = 0\n",
    "        else:\n",
    "            print (\"Problemi nella chiusura della connessione\")\n",
    "\n",
    "client.close()"
   ]
  },
  {
   "cell_type": "code",
   "execution_count": null,
   "metadata": {},
   "outputs": [],
   "source": []
  },
  {
   "cell_type": "code",
   "execution_count": null,
   "metadata": {},
   "outputs": [],
   "source": []
  },
  {
   "cell_type": "code",
   "execution_count": null,
   "metadata": {},
   "outputs": [],
   "source": []
  }
 ],
 "metadata": {
  "kernelspec": {
   "display_name": "Python 3",
   "language": "python",
   "name": "python3"
  },
  "language_info": {
   "codemirror_mode": {
    "name": "ipython",
    "version": 3
   },
   "file_extension": ".py",
   "mimetype": "text/x-python",
   "name": "python",
   "nbconvert_exporter": "python",
   "pygments_lexer": "ipython3",
   "version": "3.5.2"
  }
 },
 "nbformat": 4,
 "nbformat_minor": 2
}
