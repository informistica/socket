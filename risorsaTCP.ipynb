{
 "cells": [
  {
   "cell_type": "markdown",
   "metadata": {},
   "source": [
    "<h1>Introduzione alle socket in Python</h1>\n",
    "Le socket sono uno strumento importante per la comunicazione tra processi su una rete, sia su Internet che su una rete locale. In Python le socket possono essere utilizzate sia per la comunicazione tramite UDP, che è un protocollo di trasmissione di dati senza connessione, che TCP con connessione. Per creare una socket in Python utilizziamo il metodo socket() del modulo socket. Il metodo accetta 2 parametri: la famiglia di indirizzi e il tipo di socket.\n",
    "\n",
    "Socket UDP\n",
    "Le socket UDP sono utilizzate per inviare e ricevere pacchetti di dati tra 2 dispositivi senza l'instaurazione di una connessione prima della trasmissione dei dati. Questo rende le socket UDP molto utili\n"
   ]
  },
  {
   "cell_type": "markdown",
   "metadata": {},
   "source": [
    "**socket()**: questa funzione viene utilizzata per creare una nuova socket UDP. Restituisce un oggetto socket che può essere utilizzato per inviare e ricevere dati."
   ]
  },
  {
   "cell_type": "code",
   "execution_count": null,
   "metadata": {},
   "outputs": [],
   "source": [
    "import socket\n",
    "#Creazione socket UDP\n",
    "sock = socket.socket(socket.AF_INET, socket.SOCK_DGRAM)"
   ]
  },
  {
   "cell_type": "markdown",
   "metadata": {},
   "source": [
    "**bind()**: questa funzione viene utilizzata per associare una socket a un indirizzo e una porta specifici del server. Una volta associata, la socket sarà in grado di ricevere i dati inviati a quell'indirizzo e porta specifici. Il metodo accetta un parametro, una tupla contenente l'indirizzo IP e il numero di porta."
   ]
  },
  {
   "cell_type": "code",
   "execution_count": null,
   "metadata": {},
   "outputs": [],
   "source": [
    "server_address = ('127.0.0.1', 10000)\n",
    "sock.bind(server_address)"
   ]
  },
  {
   "cell_type": "markdown",
   "metadata": {},
   "source": [
    "**sendto()**: questa funzione viene utilizzata per inviare un messaggio a un indirizzo e una porta specifici. In una socket UDP, il messaggio viene suddiviso in pacchetti e inviato tramite la rete. Non viene effettuato alcun controllo sulla ricezione del messaggio."
   ]
  },
  {
   "cell_type": "code",
   "execution_count": null,
   "metadata": {},
   "outputs": [],
   "source": [
    "message = b'Hello, client!' #\"b\" fa la conversione a binario\n",
    "client_address = ('localhost', 10001)\n",
    "sock.sendto(message, client_address)"
   ]
  },
  {
   "cell_type": "markdown",
   "metadata": {},
   "source": [
    "**recvfrom()**: questa funzione viene utilizzata per ricevere un messaggio inviato da una socket specifica. Essa restituisce il messaggio ricevuto e l'indirizzo e la porta del mittente del messaggio."
   ]
  },
  {
   "cell_type": "code",
   "execution_count": null,
   "metadata": {},
   "outputs": [],
   "source": [
    "data, address = sock.recvfrom(4096)"
   ]
  },
  {
   "cell_type": "markdown",
   "metadata": {},
   "source": [
    "<h1><b>Costrutto With</b></h1>"
   ]
  },
  {
   "cell_type": "markdown",
   "metadata": {},
   "source": [
    "È utilizzato per gestire il contesto di un oggetto. In particolare è utile quando si lavora con oggetti che necessitano di esserre aperti e chiusi correttamente, come ad esempio file, socket, connessioni a database e così via.\n",
    "\n",
    "<h3>Sintassi:</h3>\n",
    "\n",
    "with [oggetto] as [nome_variabile]:\n",
    "\n",
    "        [codice]\n",
    "    \n",
    "Uscendo dal with l'oggetto viene chiuso automaticamente"
   ]
  },
  {
   "cell_type": "code",
   "execution_count": null,
   "metadata": {},
   "outputs": [],
   "source": [
    "#Chiarimento sul formato di dati scambiato\n",
    "#nella socket vengono inviati byte\n",
    "#quindi le stringhe vanno codificate in byte encode() prima di essere trasmesse\n",
    "#ed i dati ricevuti vanno decodificati decode() prima di essere visualizzati.\n",
    "\n",
    "input_string = \"Hello\"\n",
    "print(type(input_string))\n",
    "input_bytes_encoded = input_string.encode()\n",
    "print(type(input_bytes_encoded))\n",
    "print(input_bytes_encoded)\n",
    "output_string = input_bytes_encoded.decode()\n",
    "print(type(output_string))\n",
    "print(output_string)"
   ]
  },
  {
   "cell_type": "code",
   "execution_count": null,
   "metadata": {},
   "outputs": [],
   "source": [
    "#Client\n",
    "import socket\n",
    "\n",
    "HOST = \"127.0.0.1\" #Indirizzo del server\n",
    "PORT = 65432 #Porta usata dal server\n",
    "\n",
    "#Creazione della socket del server con il costrutto with\n",
    "with socket.socket(socket.AF_INET, socket.SOCK_STREAM) as sock_service:\n",
    "    sock_service.connect((HOST, PORT))\n",
    "    sock_service.sendall(b\"Hello, world!\")\n",
    "    data = sock_service.recv(1024) #Il parametro indica la dimensione massima dei dati che possono essere ricevuti in una sola volta\n",
    "\n",
    "#a questo punto la socket è stata chiusa automaticamente\n",
    "print(\"Received\", data.decode())"
   ]
  },
  {
   "cell_type": "code",
   "execution_count": null,
   "metadata": {},
   "outputs": [],
   "source": [
    "#Server\n",
    "import socket\n",
    "\n",
    "#Configurazione del server\n",
    "IP = \"127.0.0.1\"\n",
    "PORTA = 65432\n",
    "DIM_BUFFER = 1024\n",
    "\n",
    "#Creazione della socket del server con il costrtto with\n",
    "with socket.socket(socket.AF_INET, socket.SOCK_STREAM) as sock_server:\n",
    "    sock_server.bind((IP, PORTA))\n",
    "    sock_server.listen()\n",
    "    print(f\"Server in ascolto su {IP}:{PORTA}...\")\n",
    "    #Loop principale del server\n",
    "    while True:\n",
    "        #accetta le connessioni\n",
    "        sock_service, address_client = sock_server.accept()\n",
    "        with sock_service as sock_client:\n",
    "            #leggi i dati inviati dal client\n",
    "            dati = sock_client.recv(DIM_BUFFER).decode()\n",
    "            #Stampa il messaggio ricevuto e invia una risposta al client\n",
    "            print(f\"Ricevuto messaggio dal client {sock_client}:{dati}\")\n",
    "            sock_client.sendall(\"Messaggio ricevuto dal server\".encode())"
   ]
  }
 ],
 "metadata": {
  "kernelspec": {
   "display_name": "Python 3",
   "language": "python",
   "name": "python3"
  },
  "language_info": {
   "codemirror_mode": {
    "name": "ipython",
    "version": 3
   },
   "file_extension": ".py",
   "mimetype": "text/x-python",
   "name": "python",
   "nbconvert_exporter": "python",
   "pygments_lexer": "ipython3",
   "version": "3.11.7"
  }
 },
 "nbformat": 4,
 "nbformat_minor": 2
}
